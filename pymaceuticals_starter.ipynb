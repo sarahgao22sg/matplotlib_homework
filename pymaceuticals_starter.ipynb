{
 "cells": [
  {
   "cell_type": "markdown",
   "metadata": {},
   "source": [
    "## Observations and Insights "
   ]
  },
  {
   "cell_type": "code",
   "execution_count": 26,
   "metadata": {},
   "outputs": [
    {
     "data": {
      "text/html": [
       "<div>\n",
       "<style scoped>\n",
       "    .dataframe tbody tr th:only-of-type {\n",
       "        vertical-align: middle;\n",
       "    }\n",
       "\n",
       "    .dataframe tbody tr th {\n",
       "        vertical-align: top;\n",
       "    }\n",
       "\n",
       "    .dataframe thead th {\n",
       "        text-align: right;\n",
       "    }\n",
       "</style>\n",
       "<table border=\"1\" class=\"dataframe\">\n",
       "  <thead>\n",
       "    <tr style=\"text-align: right;\">\n",
       "      <th></th>\n",
       "      <th>Mouse ID</th>\n",
       "      <th>Drug Regimen</th>\n",
       "      <th>Sex</th>\n",
       "      <th>Age_months</th>\n",
       "      <th>Weight (g)</th>\n",
       "      <th>Timepoint</th>\n",
       "      <th>Tumor Volume (mm3)</th>\n",
       "      <th>Metastatic Sites</th>\n",
       "    </tr>\n",
       "  </thead>\n",
       "  <tbody>\n",
       "    <tr>\n",
       "      <th>0</th>\n",
       "      <td>k403</td>\n",
       "      <td>Ramicane</td>\n",
       "      <td>Male</td>\n",
       "      <td>21</td>\n",
       "      <td>16</td>\n",
       "      <td>0</td>\n",
       "      <td>45.000000</td>\n",
       "      <td>0</td>\n",
       "    </tr>\n",
       "    <tr>\n",
       "      <th>1</th>\n",
       "      <td>k403</td>\n",
       "      <td>Ramicane</td>\n",
       "      <td>Male</td>\n",
       "      <td>21</td>\n",
       "      <td>16</td>\n",
       "      <td>5</td>\n",
       "      <td>38.825898</td>\n",
       "      <td>0</td>\n",
       "    </tr>\n",
       "    <tr>\n",
       "      <th>2</th>\n",
       "      <td>k403</td>\n",
       "      <td>Ramicane</td>\n",
       "      <td>Male</td>\n",
       "      <td>21</td>\n",
       "      <td>16</td>\n",
       "      <td>10</td>\n",
       "      <td>35.014271</td>\n",
       "      <td>1</td>\n",
       "    </tr>\n",
       "    <tr>\n",
       "      <th>3</th>\n",
       "      <td>k403</td>\n",
       "      <td>Ramicane</td>\n",
       "      <td>Male</td>\n",
       "      <td>21</td>\n",
       "      <td>16</td>\n",
       "      <td>15</td>\n",
       "      <td>34.223992</td>\n",
       "      <td>1</td>\n",
       "    </tr>\n",
       "    <tr>\n",
       "      <th>4</th>\n",
       "      <td>k403</td>\n",
       "      <td>Ramicane</td>\n",
       "      <td>Male</td>\n",
       "      <td>21</td>\n",
       "      <td>16</td>\n",
       "      <td>20</td>\n",
       "      <td>32.997729</td>\n",
       "      <td>1</td>\n",
       "    </tr>\n",
       "  </tbody>\n",
       "</table>\n",
       "</div>"
      ],
      "text/plain": [
       "  Mouse ID Drug Regimen   Sex  Age_months  Weight (g)  Timepoint  \\\n",
       "0     k403     Ramicane  Male          21          16          0   \n",
       "1     k403     Ramicane  Male          21          16          5   \n",
       "2     k403     Ramicane  Male          21          16         10   \n",
       "3     k403     Ramicane  Male          21          16         15   \n",
       "4     k403     Ramicane  Male          21          16         20   \n",
       "\n",
       "   Tumor Volume (mm3)  Metastatic Sites  \n",
       "0           45.000000                 0  \n",
       "1           38.825898                 0  \n",
       "2           35.014271                 1  \n",
       "3           34.223992                 1  \n",
       "4           32.997729                 1  "
      ]
     },
     "execution_count": 26,
     "metadata": {},
     "output_type": "execute_result"
    }
   ],
   "source": [
    "# Dependencies and Setup\n",
    "import matplotlib.pyplot as plt\n",
    "import pandas as pd\n",
    "import scipy.stats as st\n",
    "import numpy as np\n",
    "\n",
    "# Study data files\n",
    "mouse_metadata_path = \"data/Mouse_metadata.csv\"\n",
    "study_results_path = \"data/Study_results.csv\"\n",
    "\n",
    "# Read the mouse data and the study results\n",
    "mouse_metadata = pd.read_csv(mouse_metadata_path)\n",
    "study_results = pd.read_csv(study_results_path)\n",
    "\n",
    "# Combine the data into a single dataset\n",
    "#mouse_metadata.head()\n",
    "#study_results.head()\n",
    "merge_data = pd.merge(mouse_metadata, study_results, on='Mouse ID', how='outer')\n",
    "merge_data.head()\n"
   ]
  },
  {
   "cell_type": "code",
   "execution_count": 27,
   "metadata": {},
   "outputs": [
    {
     "data": {
      "text/html": [
       "<div>\n",
       "<style scoped>\n",
       "    .dataframe tbody tr th:only-of-type {\n",
       "        vertical-align: middle;\n",
       "    }\n",
       "\n",
       "    .dataframe tbody tr th {\n",
       "        vertical-align: top;\n",
       "    }\n",
       "\n",
       "    .dataframe thead th {\n",
       "        text-align: right;\n",
       "    }\n",
       "</style>\n",
       "<table border=\"1\" class=\"dataframe\">\n",
       "  <thead>\n",
       "    <tr style=\"text-align: right;\">\n",
       "      <th></th>\n",
       "      <th>Mouse ID</th>\n",
       "      <th>Drug Regimen</th>\n",
       "      <th>Sex</th>\n",
       "      <th>Age_months</th>\n",
       "      <th>Weight (g)</th>\n",
       "      <th>Timepoint</th>\n",
       "      <th>Tumor Volume (mm3)</th>\n",
       "      <th>Metastatic Sites</th>\n",
       "    </tr>\n",
       "  </thead>\n",
       "  <tbody>\n",
       "    <tr>\n",
       "      <th>0</th>\n",
       "      <td>k403</td>\n",
       "      <td>Ramicane</td>\n",
       "      <td>Male</td>\n",
       "      <td>21</td>\n",
       "      <td>16</td>\n",
       "      <td>0</td>\n",
       "      <td>45.000000</td>\n",
       "      <td>0</td>\n",
       "    </tr>\n",
       "    <tr>\n",
       "      <th>1</th>\n",
       "      <td>k403</td>\n",
       "      <td>Ramicane</td>\n",
       "      <td>Male</td>\n",
       "      <td>21</td>\n",
       "      <td>16</td>\n",
       "      <td>5</td>\n",
       "      <td>38.825898</td>\n",
       "      <td>0</td>\n",
       "    </tr>\n",
       "    <tr>\n",
       "      <th>2</th>\n",
       "      <td>k403</td>\n",
       "      <td>Ramicane</td>\n",
       "      <td>Male</td>\n",
       "      <td>21</td>\n",
       "      <td>16</td>\n",
       "      <td>10</td>\n",
       "      <td>35.014271</td>\n",
       "      <td>1</td>\n",
       "    </tr>\n",
       "    <tr>\n",
       "      <th>3</th>\n",
       "      <td>k403</td>\n",
       "      <td>Ramicane</td>\n",
       "      <td>Male</td>\n",
       "      <td>21</td>\n",
       "      <td>16</td>\n",
       "      <td>15</td>\n",
       "      <td>34.223992</td>\n",
       "      <td>1</td>\n",
       "    </tr>\n",
       "    <tr>\n",
       "      <th>4</th>\n",
       "      <td>k403</td>\n",
       "      <td>Ramicane</td>\n",
       "      <td>Male</td>\n",
       "      <td>21</td>\n",
       "      <td>16</td>\n",
       "      <td>20</td>\n",
       "      <td>32.997729</td>\n",
       "      <td>1</td>\n",
       "    </tr>\n",
       "  </tbody>\n",
       "</table>\n",
       "</div>"
      ],
      "text/plain": [
       "  Mouse ID Drug Regimen   Sex  Age_months  Weight (g)  Timepoint  \\\n",
       "0     k403     Ramicane  Male          21          16          0   \n",
       "1     k403     Ramicane  Male          21          16          5   \n",
       "2     k403     Ramicane  Male          21          16         10   \n",
       "3     k403     Ramicane  Male          21          16         15   \n",
       "4     k403     Ramicane  Male          21          16         20   \n",
       "\n",
       "   Tumor Volume (mm3)  Metastatic Sites  \n",
       "0           45.000000                 0  \n",
       "1           38.825898                 0  \n",
       "2           35.014271                 1  \n",
       "3           34.223992                 1  \n",
       "4           32.997729                 1  "
      ]
     },
     "execution_count": 27,
     "metadata": {},
     "output_type": "execute_result"
    }
   ],
   "source": [
    "merge_data = pd.merge(mouse_metadata, study_results, on='Mouse ID', how='outer')\n",
    "merge_data.head()"
   ]
  },
  {
   "cell_type": "markdown",
   "metadata": {},
   "source": [
    "## Summary Statistics"
   ]
  },
  {
   "cell_type": "code",
   "execution_count": 28,
   "metadata": {},
   "outputs": [
    {
     "data": {
      "text/html": [
       "<div>\n",
       "<style scoped>\n",
       "    .dataframe tbody tr th:only-of-type {\n",
       "        vertical-align: middle;\n",
       "    }\n",
       "\n",
       "    .dataframe tbody tr th {\n",
       "        vertical-align: top;\n",
       "    }\n",
       "\n",
       "    .dataframe thead th {\n",
       "        text-align: right;\n",
       "    }\n",
       "</style>\n",
       "<table border=\"1\" class=\"dataframe\">\n",
       "  <thead>\n",
       "    <tr style=\"text-align: right;\">\n",
       "      <th></th>\n",
       "      <th>mean</th>\n",
       "      <th>median</th>\n",
       "      <th>var</th>\n",
       "      <th>std</th>\n",
       "      <th>sem</th>\n",
       "    </tr>\n",
       "    <tr>\n",
       "      <th>Drug Regimen</th>\n",
       "      <th></th>\n",
       "      <th></th>\n",
       "      <th></th>\n",
       "      <th></th>\n",
       "      <th></th>\n",
       "    </tr>\n",
       "  </thead>\n",
       "  <tbody>\n",
       "    <tr>\n",
       "      <th>Capomulin</th>\n",
       "      <td>40.675741</td>\n",
       "      <td>41.557809</td>\n",
       "      <td>24.947764</td>\n",
       "      <td>4.994774</td>\n",
       "      <td>0.329346</td>\n",
       "    </tr>\n",
       "    <tr>\n",
       "      <th>Ceftamin</th>\n",
       "      <td>52.591172</td>\n",
       "      <td>51.776157</td>\n",
       "      <td>39.290177</td>\n",
       "      <td>6.268188</td>\n",
       "      <td>0.469821</td>\n",
       "    </tr>\n",
       "    <tr>\n",
       "      <th>Infubinol</th>\n",
       "      <td>52.884795</td>\n",
       "      <td>51.820584</td>\n",
       "      <td>43.128684</td>\n",
       "      <td>6.567243</td>\n",
       "      <td>0.492236</td>\n",
       "    </tr>\n",
       "    <tr>\n",
       "      <th>Ketapril</th>\n",
       "      <td>55.235638</td>\n",
       "      <td>53.698743</td>\n",
       "      <td>68.553577</td>\n",
       "      <td>8.279709</td>\n",
       "      <td>0.603860</td>\n",
       "    </tr>\n",
       "    <tr>\n",
       "      <th>Naftisol</th>\n",
       "      <td>54.331565</td>\n",
       "      <td>52.509285</td>\n",
       "      <td>66.173479</td>\n",
       "      <td>8.134708</td>\n",
       "      <td>0.596466</td>\n",
       "    </tr>\n",
       "    <tr>\n",
       "      <th>Placebo</th>\n",
       "      <td>54.033581</td>\n",
       "      <td>52.288934</td>\n",
       "      <td>61.168083</td>\n",
       "      <td>7.821003</td>\n",
       "      <td>0.581331</td>\n",
       "    </tr>\n",
       "    <tr>\n",
       "      <th>Propriva</th>\n",
       "      <td>52.322552</td>\n",
       "      <td>50.854632</td>\n",
       "      <td>42.351070</td>\n",
       "      <td>6.507770</td>\n",
       "      <td>0.512884</td>\n",
       "    </tr>\n",
       "    <tr>\n",
       "      <th>Ramicane</th>\n",
       "      <td>40.216745</td>\n",
       "      <td>40.673236</td>\n",
       "      <td>23.486704</td>\n",
       "      <td>4.846308</td>\n",
       "      <td>0.320955</td>\n",
       "    </tr>\n",
       "    <tr>\n",
       "      <th>Stelasyn</th>\n",
       "      <td>54.233149</td>\n",
       "      <td>52.431737</td>\n",
       "      <td>59.450562</td>\n",
       "      <td>7.710419</td>\n",
       "      <td>0.573111</td>\n",
       "    </tr>\n",
       "    <tr>\n",
       "      <th>Zoniferol</th>\n",
       "      <td>53.236507</td>\n",
       "      <td>51.818479</td>\n",
       "      <td>48.533355</td>\n",
       "      <td>6.966589</td>\n",
       "      <td>0.516398</td>\n",
       "    </tr>\n",
       "  </tbody>\n",
       "</table>\n",
       "</div>"
      ],
      "text/plain": [
       "                   mean     median        var       std       sem\n",
       "Drug Regimen                                                     \n",
       "Capomulin     40.675741  41.557809  24.947764  4.994774  0.329346\n",
       "Ceftamin      52.591172  51.776157  39.290177  6.268188  0.469821\n",
       "Infubinol     52.884795  51.820584  43.128684  6.567243  0.492236\n",
       "Ketapril      55.235638  53.698743  68.553577  8.279709  0.603860\n",
       "Naftisol      54.331565  52.509285  66.173479  8.134708  0.596466\n",
       "Placebo       54.033581  52.288934  61.168083  7.821003  0.581331\n",
       "Propriva      52.322552  50.854632  42.351070  6.507770  0.512884\n",
       "Ramicane      40.216745  40.673236  23.486704  4.846308  0.320955\n",
       "Stelasyn      54.233149  52.431737  59.450562  7.710419  0.573111\n",
       "Zoniferol     53.236507  51.818479  48.533355  6.966589  0.516398"
      ]
     },
     "execution_count": 28,
     "metadata": {},
     "output_type": "execute_result"
    }
   ],
   "source": [
    "# Generate a summary statistics table of mean, median, variance,standard deviation, and SEM of the tumor volume for each regimen\n",
    "\n",
    "summary = merged_df.groupby('Drug Regimen')\n",
    "table = summary.agg(['mean','median','var','std','sem'])[\"Tumor Volume (mm3)\"]\n",
    "table"
   ]
  },
  {
   "cell_type": "markdown",
   "metadata": {},
   "source": [
    "## Bar and Pie Charts"
   ]
  },
  {
   "cell_type": "code",
   "execution_count": 75,
   "metadata": {},
   "outputs": [
    {
     "data": {
      "text/plain": [
       "Text(0.5, 1.0, 'Total Number of Mice for each Treatment')"
      ]
     },
     "execution_count": 75,
     "metadata": {},
     "output_type": "execute_result"
    },
    {
     "data": {
      "image/png": "[encoded data removed]",
      "text/plain": [
       "<Figure size 432x288 with 1 Axes>"
      ]
     },
     "metadata": {
      "needs_background": "light"
     },
     "output_type": "display_data"
    }
   ],
   "source": [
    "# Generate a bar plot showing the total number of mice for each treatment throughout the course of the study using pandas. \n",
    "\n",
    "datapts2 = merged_df.groupby('Drug Regimen').count()['Tumor Volume (mm3)']\n",
    "forpanbar = pd.DataFrame(datapts2)\n",
    "\n",
    "also = forpanbar.plot.bar(legend=False,rot=50)\n",
    "also\n",
    "plt.ylabel(\"Number of Mice\")\n",
    "plt.title(\"Total Number of Mice for each Treatment\")\n"
   ]
  },
  {
   "cell_type": "code",
   "execution_count": 73,
   "metadata": {},
   "outputs": [
    {
     "data": {
      "text/plain": [
       "Text(0, 0.5, 'Number of Mice')"
      ]
     },
     "execution_count": 73,
     "metadata": {},
     "output_type": "execute_result"
    },
    {
     "data": {
      "image/png": "[encoded data removed]",
      "text/plain": [
       "<Figure size 360x216 with 1 Axes>"
      ]
     },
     "metadata": {
      "needs_background": "light"
     },
     "output_type": "display_data"
    }
   ],
   "source": [
    "# Generate a bar plot showing the total number of mice for each treatment throughout the course of the study using pyplot.\n",
    "x_axis = np.arange(len(datapts2))\n",
    "\n",
    "tick_locations = [x for x in x_axis]\n",
    "\n",
    "plt.figure(figsize=(5,3))\n",
    "\n",
    "plt.bar(x_axis, forpanbar['Tumor Volume (mm3)'], alpha=0.75, align=\"center\")\n",
    "plt.xticks(tick_locations, newtry['Drug Regimen'],rotation=\"vertical\")\n",
    "\n",
    "plt.xlim(-0.75, len(datapts2)-.25)\n",
    "plt.ylim(0, 250)\n",
    "\n",
    "plt.title(\"Total Number of Mice for each Treatment\")\n",
    "plt.xlabel(\"Drug Regimen\")\n",
    "plt.ylabel(\"Number of Mice\")"
   ]
  },
  {
   "cell_type": "code",
   "execution_count": 61,
   "metadata": {},
   "outputs": [
    {
     "data": {
      "text/plain": [
       "Text(0.5, 1.0, 'Male vs Female Mouse Population')"
      ]
     },
     "execution_count": 61,
     "metadata": {},
     "output_type": "execute_result"
    },
    {
     "data": {
      "image/png": "[encoded data removed]",
      "text/plain": [
       "<Figure size 360x360 with 1 Axes>"
      ]
     },
     "metadata": {},
     "output_type": "display_data"
    }
   ],
   "source": [
    "# Generate a pie plot showing the distribution of female versus male mice using pandas\n",
    "#Group by Mouse ID and Sex\n",
    "groupby_gender = merge_data.groupby([\"Mouse ID\",\"Sex\"])\n",
    "groupby_gender\n",
    "\n",
    "mouse_gender_df = pd.DataFrame(groupby_gender.size())\n",
    "\n",
    "#Total count of Female and Male mice\n",
    "mouse_gender = pd.DataFrame(mouse_gender_df.groupby([\"Sex\"]).count())\n",
    "mouse_gender.columns = [\"Total Count\"]\n",
    "\n",
    "mouse_gender[\"Percentage of Sex\"] = (100*(mouse_gender[\"Total Count\"]/mouse_gender[\"Total Count\"].sum()))\n",
    "mouse_gender[\"Percentage of Sex\"] = mouse_gender[\"Percentage of Sex\"]\n",
    "colors = ['Blue', 'Green']\n",
    "explode = (0.1, 0)\n",
    "plot = mouse_gender.plot.pie(y='Total Count',figsize=(5,5), colors = colors, startangle=140, explode = explode, shadow = True, autopct=\"%1.1f%%\")\n",
    "plt.title('Male vs Female Mouse Population')\n"
   ]
  },
  {
   "cell_type": "code",
   "execution_count": 56,
   "metadata": {},
   "outputs": [
    {
     "data": {
      "text/plain": [
       "Text(0.5, 1.0, 'Male vs Female Mouse Population')"
      ]
     },
     "execution_count": 56,
     "metadata": {},
     "output_type": "execute_result"
    },
    {
     "data": {
      "image/png": "[encoded data removed]",
      "text/plain": [
       "<Figure size 432x288 with 1 Axes>"
      ]
     },
     "metadata": {},
     "output_type": "display_data"
    }
   ],
   "source": [
    "# Generate a pie plot showing the distribution of female versus male mice using pyplot\n",
    "# Create Labels\n",
    "labels = [\"Female\",\"Male\"]\n",
    "sizes = [49.799197,50.200803]\n",
    "colors = ['blue', 'Green']\n",
    "explode = (0.1, 0)\n",
    "plt.pie(sizes, explode=explode, labels=labels, colors=colors, autopct=\"%1.1f%%\", shadow=True, startangle=140)\n",
    "plt.axis(\"equal\")\n",
    "plt.title('Male vs Female Mouse Population')"
   ]
  },
  {
   "cell_type": "markdown",
   "metadata": {},
   "source": [
    "## Quartiles, Outliers and Boxplots"
   ]
  },
  {
   "cell_type": "code",
   "execution_count": 54,
   "metadata": {},
   "outputs": [
    {
     "data": {
      "image/png": "[encoded data removed]",
      "text/plain": [
       "<Figure size 432x288 with 1 Axes>"
      ]
     },
     "metadata": {
      "needs_background": "light"
     },
     "output_type": "display_data"
    }
   ],
   "source": [
    "# Calculate the final tumor volume of each mouse across four of the treatment regimens:  \n",
    "best_regimes = merge_data[merge_data[\"Drug Regimen\"].isin([\"Capomulin\", \"Ramicane\", \"Infubinol\", \"Ceftamin\"])]\n",
    "best_regimes = best_regimes.sort_values([\"Timepoint\"], ascending=True)\n",
    "best_regimes\n",
    "\n",
    "best_regimes_data = best_regimes[[\"Drug Regimen\", \"Mouse ID\", \"Timepoint\", \"Tumor Volume (mm3)\"]]\n",
    "\n",
    "best_regimes_data\n",
    "\n",
    "best_regimens_sort = best_regimes_data.groupby(['Drug Regimen', 'Mouse ID']).last()['Tumor Volume (mm3)']\n",
    "best_regimens_sort.head()\n",
    "\n",
    "# Turn retrieved data into dataframe to easily manipulate\n",
    "best_regimen_df = best_regimens_sort.to_frame()\n",
    "best_regimen_df\n",
    "\n",
    "#Create a list to use as labels and dataframe\n",
    "top_4 = ['Capomulin', 'Ramicane', 'Infubinol','Ceftamin']\n",
    "\n",
    "# Generate a box plot of the final tumor volume of each mouse across four regimens of interest\n",
    "final_df = best_regimen_df.reset_index()\n",
    "tumor_lists = final_df.groupby('Drug Regimen')['Tumor Volume (mm3)'].apply(list)\n",
    "tumor_list_df = pd.DataFrame(tumor_lists)\n",
    "tumor_list_df = tumor_list_df.reindex(top_4)\n",
    "tumor_vols = [vol for vol in tumor_list_df['Tumor Volume (mm3)']]\n",
    "plt.boxplot(tumor_vols, labels=top_4)\n",
    "plt.ylim(10, 80)\n",
    "plt.title('Tumor Volume')\n",
    "plt.xlabel('Treatmeant Regimens')\n",
    "plt.ylabel('Tumor Volume (mm3)')\n",
    "plt.show()"
   ]
  },
  {
   "cell_type": "markdown",
   "metadata": {},
   "source": [
    "## Line and Scatter Plots"
   ]
  },
  {
   "cell_type": "code",
   "execution_count": 63,
   "metadata": {},
   "outputs": [
    {
     "data": {
      "image/png": "[encoded data removed]",
      "text/plain": [
       "<Figure size 432x288 with 1 Axes>"
      ]
     },
     "metadata": {
      "needs_background": "light"
     },
     "output_type": "display_data"
    }
   ],
   "source": [
    "# Generate a line plot of time point versus tumor volume for a mouse treated with Capomulin\n",
    "forline_df = cap_df.loc[cap_df[\"Mouse ID\"] == \"l509\",:]\n",
    "forline_df.head()\n",
    "x_axisTP = forline_df[\"Timepoint\"]\n",
    "tumsiz = forline_df[\"Tumor Volume (mm3)\"]\n",
    "\n",
    "plt.title('Capomulin Treatmeant')\n",
    "plt.plot(x_axisTP, tumsiz,linewidth=2, markersize=12)\n",
    "plt.xlabel('Timepoint (Days)')\n",
    "plt.ylabel('Tumor Volume (mm3)')\n",
    "\n",
    "plt.savefig('linechart')"
   ]
  },
  {
   "cell_type": "code",
   "execution_count": 64,
   "metadata": {},
   "outputs": [
    {
     "data": {
      "image/png": "[encoded data removed]",
      "text/plain": [
       "<Figure size 432x288 with 1 Axes>"
      ]
     },
     "metadata": {
      "needs_background": "light"
     },
     "output_type": "display_data"
    }
   ],
   "source": [
    "# Generate a scatter plot of mouse weight versus average tumor volume for the Capomulin regimen\n",
    "capavg = cap_df.groupby(['Mouse ID']).mean()\n",
    "plt.scatter(capavg['Weight (g)'],capavg['Tumor Volume (mm3)'])\n",
    "plt.title('Capomulin Regiment')\n",
    "plt.xlabel('Weight (g)')\n",
    "plt.ylabel('Average Tumor Volume (mm3)')\n",
    "\n",
    "plt.savefig('scatterplot')"
   ]
  },
  {
   "cell_type": "markdown",
   "metadata": {},
   "source": [
    "## Correlation and Regression"
   ]
  },
  {
   "cell_type": "code",
   "execution_count": 68,
   "metadata": {},
   "outputs": [
    {
     "name": "stdout",
     "output_type": "stream",
     "text": [
      "The correlation between mouse weight and average tumor volume is 0.84\n"
     ]
    }
   ],
   "source": [
    "# Calculate the correlation coefficient and linear regression model \n",
    "# for mouse weight and average tumor volume for the Capomulin regimen\n",
    "correlation=round(st.pearsonr(capavg['Weight (g)'],capavg['Tumor Volume (mm3)'])[0],2)\n",
    "print(f\"The correlation between mouse weight and average tumor volume is {corr}\")"
   ]
  },
  {
   "cell_type": "code",
   "execution_count": 69,
   "metadata": {},
   "outputs": [
    {
     "data": {
      "text/plain": [
       "LinregressResult(slope=0.9544396890241045, intercept=21.552160532685015, rvalue=0.8419363424694718, pvalue=1.3225722434712642e-07, stderr=0.1275435903320134)"
      ]
     },
     "execution_count": 69,
     "metadata": {},
     "output_type": "execute_result"
    }
   ],
   "source": [
    "model=st.linregress(capavg['Weight (g)'],capavg['Tumor Volume (mm3)'])\n",
    "model"
   ]
  },
  {
   "cell_type": "code",
   "execution_count": 71,
   "metadata": {},
   "outputs": [
    {
     "data": {
      "image/png": "[encoded data removed]",
      "text/plain": [
       "<Figure size 432x288 with 1 Axes>"
      ]
     },
     "metadata": {
      "needs_background": "light"
     },
     "output_type": "display_data"
    }
   ],
   "source": [
    "mslope = 0.9544396890241045\n",
    "bintercept = 21.552160532685015\n",
    "y_values = capavg['Weight (g)']*mslope+bintercept\n",
    "plt.scatter(capavg['Weight (g)'],capavg['Tumor Volume (mm3)'])\n",
    "plt.plot(capavg['Weight (g)'],y_values,color=\"red\")\n",
    "plt.title('Capomulin Regiment')\n",
    "plt.xlabel('Weight(g)')\n",
    "plt.ylabel('Average Tumore Volume (mm3)')\n",
    "plt.savefig('linearregression')"
   ]
  },
  {
   "cell_type": "code",
   "execution_count": null,
   "metadata": {},
   "outputs": [],
   "source": []
  }
 ],
 "metadata": {
  "anaconda-cloud": {},
  "kernelspec": {
   "display_name": "Python 3",
   "language": "python",
   "name": "python3"
  },
  "language_info": {
   "codemirror_mode": {
    "name": "ipython",
    "version": 3
   },
   "file_extension": ".py",
   "mimetype": "text/x-python",
   "name": "python",
   "nbconvert_exporter": "python",
   "pygments_lexer": "ipython3",
   "version": "3.8.3"
  }
 },
 "nbformat": 4,
 "nbformat_minor": 4
}
